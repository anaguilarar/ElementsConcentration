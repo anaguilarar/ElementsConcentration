{
  "nbformat": 4,
  "nbformat_minor": 0,
  "metadata": {
    "colab": {
      "provenance": [],
      "authorship_tag": "ABX9TyOIWvcyiwknCGetnM18a8Fa",
      "include_colab_link": true
    },
    "kernelspec": {
      "name": "python3",
      "display_name": "Python 3"
    },
    "language_info": {
      "name": "python"
    }
  },
  "cells": [
    {
      "cell_type": "markdown",
      "metadata": {
        "id": "view-in-github",
        "colab_type": "text"
      },
      "source": [
        "<a href=\"https://colab.research.google.com/github/anaguilarar/ElementsConcentration/blob/main/example.ipynb\" target=\"_parent\"><img src=\"https://colab.research.google.com/assets/colab-badge.svg\" alt=\"Open In Colab\"/></a>"
      ]
    },
    {
      "cell_type": "code",
      "execution_count": 1,
      "metadata": {
        "colab": {
          "base_uri": "https://localhost:8080/"
        },
        "id": "Ys0kaWhhCo1i",
        "outputId": "2e762fe8-2190-4933-848f-5c7775d767fc"
      },
      "outputs": [
        {
          "output_type": "stream",
          "name": "stdout",
          "text": [
            "Cloning into 'ElementsConcentration'...\n",
            "remote: Enumerating objects: 37, done.\u001b[K\n",
            "remote: Counting objects: 100% (37/37), done.\u001b[K\n",
            "remote: Compressing objects: 100% (26/26), done.\u001b[K\n",
            "remote: Total 37 (delta 10), reused 34 (delta 10), pack-reused 0\u001b[K\n",
            "Unpacking objects: 100% (37/37), done.\n"
          ]
        }
      ],
      "source": [
        "!git clone https://github.com/anaguilarar/ElementsConcentration.git\n"
      ]
    },
    {
      "cell_type": "code",
      "source": [
        "!pip install -U scikit-multiflow"
      ],
      "metadata": {
        "colab": {
          "base_uri": "https://localhost:8080/"
        },
        "id": "T0BTVlXIDn9P",
        "outputId": "b45f130a-88ec-4a4a-c511-82a4e2c53f0e"
      },
      "execution_count": 2,
      "outputs": [
        {
          "output_type": "stream",
          "name": "stdout",
          "text": [
            "Looking in indexes: https://pypi.org/simple, https://us-python.pkg.dev/colab-wheels/public/simple/\n",
            "Collecting scikit-multiflow\n",
            "  Downloading scikit_multiflow-0.5.3-cp38-cp38-manylinux2010_x86_64.whl (1.3 MB)\n",
            "\u001b[2K     \u001b[90m━━━━━━━━━━━━━━━━━━━━━━━━━━━━━━━━━━━━━━━━\u001b[0m \u001b[32m1.3/1.3 MB\u001b[0m \u001b[31m38.3 MB/s\u001b[0m eta \u001b[36m0:00:00\u001b[0m\n",
            "\u001b[?25hRequirement already satisfied: scikit-learn>=0.20 in /usr/local/lib/python3.8/dist-packages (from scikit-multiflow) (1.0.2)\n",
            "Requirement already satisfied: matplotlib>=2.0.0 in /usr/local/lib/python3.8/dist-packages (from scikit-multiflow) (3.2.2)\n",
            "Requirement already satisfied: sortedcontainers>=1.5.7 in /usr/local/lib/python3.8/dist-packages (from scikit-multiflow) (2.4.0)\n",
            "Requirement already satisfied: scipy>=1.0.0 in /usr/local/lib/python3.8/dist-packages (from scikit-multiflow) (1.7.3)\n",
            "Requirement already satisfied: pandas>=0.25.3 in /usr/local/lib/python3.8/dist-packages (from scikit-multiflow) (1.3.5)\n",
            "Requirement already satisfied: numpy>=1.14.0 in /usr/local/lib/python3.8/dist-packages (from scikit-multiflow) (1.21.6)\n",
            "Requirement already satisfied: python-dateutil>=2.1 in /usr/local/lib/python3.8/dist-packages (from matplotlib>=2.0.0->scikit-multiflow) (2.8.2)\n",
            "Requirement already satisfied: cycler>=0.10 in /usr/local/lib/python3.8/dist-packages (from matplotlib>=2.0.0->scikit-multiflow) (0.11.0)\n",
            "Requirement already satisfied: kiwisolver>=1.0.1 in /usr/local/lib/python3.8/dist-packages (from matplotlib>=2.0.0->scikit-multiflow) (1.4.4)\n",
            "Requirement already satisfied: pyparsing!=2.0.4,!=2.1.2,!=2.1.6,>=2.0.1 in /usr/local/lib/python3.8/dist-packages (from matplotlib>=2.0.0->scikit-multiflow) (3.0.9)\n",
            "Requirement already satisfied: pytz>=2017.3 in /usr/local/lib/python3.8/dist-packages (from pandas>=0.25.3->scikit-multiflow) (2022.7)\n",
            "Requirement already satisfied: joblib>=0.11 in /usr/local/lib/python3.8/dist-packages (from scikit-learn>=0.20->scikit-multiflow) (1.2.0)\n",
            "Requirement already satisfied: threadpoolctl>=2.0.0 in /usr/local/lib/python3.8/dist-packages (from scikit-learn>=0.20->scikit-multiflow) (3.1.0)\n",
            "Requirement already satisfied: six>=1.5 in /usr/local/lib/python3.8/dist-packages (from python-dateutil>=2.1->matplotlib>=2.0.0->scikit-multiflow) (1.15.0)\n",
            "Installing collected packages: scikit-multiflow\n",
            "Successfully installed scikit-multiflow-0.5.3\n"
          ]
        }
      ]
    },
    {
      "cell_type": "markdown",
      "source": [
        "## Elements concentration prediction\n",
        "\n",
        "This repositery aimed at estimting elements concentration using multi-target regression. "
      ],
      "metadata": {
        "id": "byqY8lPbDG6N"
      }
    },
    {
      "cell_type": "code",
      "source": [
        "### Multitarget prediction\n",
        "import os\n",
        "if not os.path.basename(os.getcwd()) == \"ElementsConcentration\":\n",
        "  os.chdir(\"ElementsConcentration\")\n",
        "\n",
        "from nutrients_regressor.chain_mlfunctions import *\n",
        "from nutrients_regressor.data_processing import *\n",
        "from nutrients_regressor.sp_functions import SpectralData\n"
      ],
      "metadata": {
        "id": "1-8n3KJqDOyt"
      },
      "execution_count": 3,
      "outputs": []
    },
    {
      "cell_type": "code",
      "source": [
        "def run_chain_regressor(spdata, elementsdata, idsfun, element_to_predict, model_name = 'pls', chain = None):\n",
        "\n",
        "    testrc = ElementsChainRegressor(base_estimator=set_model(model_name, nworkers = -1,scaler ='minmax'),\n",
        "                                    spdata = spdata,\n",
        "                                    elements_concentration = elementsdata,\n",
        "                                    random_state=42,\n",
        "                                    ids_order = idsfun)\n",
        "    \n",
        "    final_chain, performances = testrc.find_best_chain(element_to_predict,kfolds=10, not_include = ['Cd','K', 'B','Fe','Cu'], checkpoint_path = '/content/drive/MyDrive/PhD/elements_concentration/results_rcpaper',\n",
        "                                                       chain = chain,\n",
        "                                                       suffix_check = model_name)\n",
        "    \n"
      ],
      "metadata": {
        "id": "Ih2lbZDrFAwV"
      },
      "execution_count": 8,
      "outputs": []
    },
    {
      "cell_type": "code",
      "source": [
        "from google.colab import drive\n",
        "drive.mount('/content/drive')"
      ],
      "metadata": {
        "id": "pVq-gMOOFPER",
        "outputId": "83283145-580a-4dff-c5d6-9325162c54ee",
        "colab": {
          "base_uri": "https://localhost:8080/"
        }
      },
      "execution_count": 5,
      "outputs": [
        {
          "output_type": "stream",
          "name": "stdout",
          "text": [
            "Mounted at /content/drive\n"
          ]
        }
      ]
    },
    {
      "cell_type": "code",
      "source": [
        "idtestvalues = [240, 381, 147,  65, 677, 721,  24, 356, 424, 667, 732,  33, 483,\n",
        "       669, 330,  29, 413, 559, 663, 716, 548,   8, 443, 671, 655, 363,\n",
        "       675,  64, 111,   0, 430, 708, 278, 651, 262, 705, 197, 662, 137,\n",
        "        10,  45, 472, 387, 455, 733, 157, 181, 495, 557, 238, 506, 294,\n",
        "        61, 513, 544, 415, 234, 360,  13, 372, 643,  90, 600, 193,  16,\n",
        "       344, 586, 396, 467,  75, 400, 567, 726, 342]\n",
        "\n",
        "## folders\n",
        "sp_path = \"/content/drive/MyDrive/PhD/elements_concentration/spectral_data.csv\"\n",
        "nut_values_path = \"/content/drive/MyDrive/PhD/elements_concentration/nutrient_values_withoutdate.csv\"\n",
        "\n",
        "## setting model and element to predict\n",
        "element = \"Mn\"\n",
        "modelname = \"svr_linear\"\n",
        "\n",
        "## read hyperspectral data after being processed\n",
        "spdata = SpectralData(sp_path, columns_suffix = 'WL.', apply_sg = True)\n",
        "# get first derivative\n",
        "spdata = spdata.first_derivative.reset_index().drop(['index'], axis = 1)\n",
        "\n",
        "## read nutrient concentration values\n",
        "elementsdata = ElementsData(nut_values_path)\n",
        "\n",
        "## creating partitions\n",
        "idsfun = SplitIds(spdata.shape[0],val_perc =None, test_perc = 10,seed = 123, shuffle = True, testids_fixed = idtestvalues)\n",
        "\n",
        "\n",
        "print('*'*10, modelname)\n",
        "print('*'*5, element)\n",
        "\n",
        "## finding the best chain\n",
        "if element == \"Mn\": # if you wnat to start from a initial chain\n",
        "  run_chain_regressor(spdata, elementsdata, idsfun, element, model_name = modelname, chain = \"Co_Mn\")\n",
        "else:\n",
        "  run_chain_regressor(spdata, elementsdata, idsfun, element, model_name = modelname)"
      ],
      "metadata": {
        "id": "XFrLrv_4FCzf",
        "outputId": "8af28b23-9798-449a-f43c-858650b16e72",
        "colab": {
          "base_uri": "https://localhost:8080/"
        }
      },
      "execution_count": null,
      "outputs": [
        {
          "output_type": "stream",
          "name": "stdout",
          "text": [
            "********** svr_linear\n",
            "***** Mn\n",
            "initial elements  ['B', 'Ca43', 'Cd', 'Cu', 'Fe', 'K', 'Li', 'Mg', 'Mo', 'Na', 'P', 'Rb', 'S', 'Sr', 'Zn']\n"
          ]
        }
      ]
    }
  ]
}