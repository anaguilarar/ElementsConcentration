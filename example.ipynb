{
  "nbformat": 4,
  "nbformat_minor": 0,
  "metadata": {
    "colab": {
      "provenance": [],
      "authorship_tag": "ABX9TyOMxomTEBaTOrxHb+VSMVlX",
      "include_colab_link": true
    },
    "kernelspec": {
      "name": "python3",
      "display_name": "Python 3"
    },
    "language_info": {
      "name": "python"
    }
  },
  "cells": [
    {
      "cell_type": "markdown",
      "metadata": {
        "id": "view-in-github",
        "colab_type": "text"
      },
      "source": [
        "<a href=\"https://colab.research.google.com/github/anaguilarar/ElementsConcentration/blob/main/example.ipynb\" target=\"_parent\"><img src=\"https://colab.research.google.com/assets/colab-badge.svg\" alt=\"Open In Colab\"/></a>"
      ]
    },
    {
      "cell_type": "code",
      "execution_count": 3,
      "metadata": {
        "colab": {
          "base_uri": "https://localhost:8080/"
        },
        "id": "Ys0kaWhhCo1i",
        "outputId": "5b05e4c4-5962-4d30-b574-46bc0fc51fb4"
      },
      "outputs": [
        {
          "output_type": "stream",
          "name": "stdout",
          "text": [
            "Cloning into 'ElementsConcentration'...\n",
            "remote: Enumerating objects: 6, done.\u001b[K\n",
            "remote: Counting objects: 100% (6/6), done.\u001b[K\n",
            "remote: Compressing objects: 100% (5/5), done.\u001b[K\n",
            "remote: Total 6 (delta 0), reused 6 (delta 0), pack-reused 0\u001b[K\n",
            "Unpacking objects: 100% (6/6), done.\n"
          ]
        }
      ],
      "source": [
        "!git clone https://github.com/anaguilarar/ElementsConcentration.git\n"
      ]
    },
    {
      "cell_type": "code",
      "source": [
        "!pip install -U numpy\n",
        "!pip install -U Cython\n",
        "!pip install -U scikit-multiflow"
      ],
      "metadata": {
        "colab": {
          "base_uri": "https://localhost:8080/",
          "height": 641
        },
        "id": "T0BTVlXIDn9P",
        "outputId": "c6fd7362-f712-4271-8ec5-41d779abef1e"
      },
      "execution_count": 1,
      "outputs": [
        {
          "output_type": "stream",
          "name": "stdout",
          "text": [
            "Looking in indexes: https://pypi.org/simple, https://us-python.pkg.dev/colab-wheels/public/simple/\n",
            "Requirement already satisfied: numpy in /usr/local/lib/python3.8/dist-packages (1.24.1)\n",
            "Looking in indexes: https://pypi.org/simple, https://us-python.pkg.dev/colab-wheels/public/simple/\n",
            "Requirement already satisfied: Cython in /usr/local/lib/python3.8/dist-packages (0.29.32)\n",
            "Looking in indexes: https://pypi.org/simple, https://us-python.pkg.dev/colab-wheels/public/simple/\n",
            "Collecting scikit-multiflow\n",
            "  Downloading scikit_multiflow-0.5.3-cp38-cp38-manylinux2010_x86_64.whl (1.3 MB)\n",
            "\u001b[K     |████████████████████████████████| 1.3 MB 4.7 MB/s \n",
            "\u001b[?25hRequirement already satisfied: scikit-learn>=0.20 in /usr/local/lib/python3.8/dist-packages (from scikit-multiflow) (1.0.2)\n",
            "Requirement already satisfied: numpy>=1.14.0 in /usr/local/lib/python3.8/dist-packages (from scikit-multiflow) (1.24.1)\n",
            "Requirement already satisfied: scipy>=1.0.0 in /usr/local/lib/python3.8/dist-packages (from scikit-multiflow) (1.7.3)\n",
            "Requirement already satisfied: sortedcontainers>=1.5.7 in /usr/local/lib/python3.8/dist-packages (from scikit-multiflow) (2.4.0)\n",
            "Requirement already satisfied: pandas>=0.25.3 in /usr/local/lib/python3.8/dist-packages (from scikit-multiflow) (1.3.5)\n",
            "Requirement already satisfied: matplotlib>=2.0.0 in /usr/local/lib/python3.8/dist-packages (from scikit-multiflow) (3.2.2)\n",
            "Requirement already satisfied: python-dateutil>=2.1 in /usr/local/lib/python3.8/dist-packages (from matplotlib>=2.0.0->scikit-multiflow) (2.8.2)\n",
            "Requirement already satisfied: cycler>=0.10 in /usr/local/lib/python3.8/dist-packages (from matplotlib>=2.0.0->scikit-multiflow) (0.11.0)\n",
            "Requirement already satisfied: pyparsing!=2.0.4,!=2.1.2,!=2.1.6,>=2.0.1 in /usr/local/lib/python3.8/dist-packages (from matplotlib>=2.0.0->scikit-multiflow) (3.0.9)\n",
            "Requirement already satisfied: kiwisolver>=1.0.1 in /usr/local/lib/python3.8/dist-packages (from matplotlib>=2.0.0->scikit-multiflow) (1.4.4)\n",
            "Requirement already satisfied: pytz>=2017.3 in /usr/local/lib/python3.8/dist-packages (from pandas>=0.25.3->scikit-multiflow) (2022.6)\n",
            "Requirement already satisfied: six>=1.5 in /usr/local/lib/python3.8/dist-packages (from python-dateutil>=2.1->matplotlib>=2.0.0->scikit-multiflow) (1.15.0)\n",
            "Requirement already satisfied: joblib>=0.11 in /usr/local/lib/python3.8/dist-packages (from scikit-learn>=0.20->scikit-multiflow) (1.2.0)\n",
            "Requirement already satisfied: threadpoolctl>=2.0.0 in /usr/local/lib/python3.8/dist-packages (from scikit-learn>=0.20->scikit-multiflow) (3.1.0)\n",
            "Collecting numpy>=1.14.0\n",
            "  Downloading numpy-1.22.4-cp38-cp38-manylinux_2_17_x86_64.manylinux2014_x86_64.whl (16.9 MB)\n",
            "\u001b[K     |████████████████████████████████| 16.9 MB 49.4 MB/s \n",
            "\u001b[?25hInstalling collected packages: numpy, scikit-multiflow\n",
            "  Attempting uninstall: numpy\n",
            "    Found existing installation: numpy 1.24.1\n",
            "    Uninstalling numpy-1.24.1:\n",
            "      Successfully uninstalled numpy-1.24.1\n",
            "Successfully installed numpy-1.22.4 scikit-multiflow-0.5.3\n"
          ]
        },
        {
          "output_type": "display_data",
          "data": {
            "application/vnd.colab-display-data+json": {
              "pip_warning": {
                "packages": [
                  "numpy"
                ]
              }
            }
          },
          "metadata": {}
        }
      ]
    },
    {
      "cell_type": "markdown",
      "source": [
        "## Elements concentration prediction\n",
        "\n",
        "This repositery aimed at estimting elements concentration using multi-target regression. "
      ],
      "metadata": {
        "id": "byqY8lPbDG6N"
      }
    },
    {
      "cell_type": "code",
      "source": [
        "### Multitarget prediction\n",
        "import os\n",
        "if not os.path.basename(os.getcwd()) == \"ElementsConcentration\":\n",
        "  os.chdir(\"ElementsConcentration\")\n",
        "\n",
        "from nutrients_regressor.chain_mlfunctions import *\n",
        "from nutrients_regressor.data_processing import *\n",
        "from nutrients_regressor.sp_functions import SpectralData\n"
      ],
      "metadata": {
        "id": "1-8n3KJqDOyt"
      },
      "execution_count": 1,
      "outputs": []
    },
    {
      "cell_type": "code",
      "source": [
        "\n",
        "def run_chain_regressor(spdata, elementsdata, idsfun, element_to_predict, model_name = 'pls'):\n",
        "\n",
        "    testrc = ElementsChainRegressor(base_estimator=set_model(model_name, nworkers = -1,scaler ='minmax'),\n",
        "                                    spdata = spdata,\n",
        "                                    elements_concentration = elementsdata,\n",
        "                                    random_state=42,\n",
        "                                    ids_order = idsfun)\n",
        "    \n",
        "    final_chain, performances = testrc.find_best_chain(element_to_predict,kfolds=10, not_include = ['Cd','K', 'B'], checkpoint_path = 'results_rcpaper',\n",
        "     suffix_check = model_name)\n",
        "    #performances['chain'] = final_chain\n"
      ],
      "metadata": {
        "id": "Ih2lbZDrFAwV"
      },
      "execution_count": 2,
      "outputs": []
    },
    {
      "cell_type": "code",
      "source": [
        "from google.colab import drive\n",
        "drive.mount('/content/drive')"
      ],
      "metadata": {
        "id": "pVq-gMOOFPER"
      },
      "execution_count": null,
      "outputs": []
    },
    {
      "cell_type": "code",
      "source": [
        "idtestvalues = [240, 381, 147,  65, 677, 721,  24, 356, 424, 667, 732,  33, 483,\n",
        "       669, 330,  29, 413, 559, 663, 716, 548,   8, 443, 671, 655, 363,\n",
        "       675,  64, 111,   0, 430, 708, 278, 651, 262, 705, 197, 662, 137,\n",
        "        10,  45, 472, 387, 455, 733, 157, 181, 495, 557, 238, 506, 294,\n",
        "        61, 513, 544, 415, 234, 360,  13, 372, 643,  90, 600, 193,  16,\n",
        "       344, 586, 396, 467,  75, 400, 567, 726, 342]\n",
        "\n",
        "## folders\n",
        "sp_path = \"fd_spectral_data.csv\"\n",
        "nut_values_path = \"nutrient_values_withoutdate.csv\"\n",
        "nutrients = [  \"P\", \"K\", \"Ca43\", \"Mg\", \"B\", \"Fe\", \"Na\", \"Mn\" ,\"Cd\", \"Li\", \"Co\",\n",
        "                \"Cu\", \"S\", \"Rb\", \"Zn\", \"Mo\", \"Sr\"]\n",
        "\n",
        "## read hyperspectral data after being processed\n",
        "spdata = SpectralData(sp_path, columns_suffix = 'WL.', apply_sg = True)\n",
        "# get first derivative\n",
        "spdata = spdata.first_derivative.reset_index().drop(['index'], axis = 1)\n",
        "\n",
        "## read nutrient concentration values\n",
        "elementsdata = ElementsData(nut_values_path)\n",
        "\n",
        "## creating partitions\n",
        "idsfun = SplitIds(spdata.shape[0],val_perc =None, test_perc = 10,seed = 123, shuffle = True, testids_fixed = idtestvalues)\n",
        "\n",
        "## which ml model will be used to predict \n",
        "modelname = \"svr_linear\"\n",
        "\n",
        "for element in nutrients:\n",
        "\n",
        "    if element in [\"Fe\",\"Co\",\n",
        "            \"Cu\", \"S\", \"Rb\", \"Zn\", \"Mo\", \"Sr\"] and modelname == 'svr_linear':\n",
        "        \n",
        "        print('*'*10, modelname)\n",
        "        print('*'*5, element)\n",
        "\n",
        "        run_chain_regressor(spdata, elementsdata, idsfun, element, model_name = modelname)"
      ],
      "metadata": {
        "id": "XFrLrv_4FCzf"
      },
      "execution_count": null,
      "outputs": []
    }
  ]
}